{
 "cells": [
  {
   "cell_type": "markdown",
   "metadata": {
    "colab_type": "text",
    "id": "B1fveaCYYiB-"
   },
   "source": [
    "# 중간고사: 딥러닝 - 2019년 1학기 "
   ]
  },
  {
   "cell_type": "markdown",
   "metadata": {
    "colab_type": "text",
    "id": "UQmNMVd3YiCA"
   },
   "source": [
    "<font color=red>\n",
    "\n",
    "__[Instruction]__\n",
    "\n",
    "__아래의 문제에 대한 답을 빈 칸에 작성하고 저장한 뒤 File>Download as>HTML(.html)로 저장하여 ecampus.kookmin.ac.kr의 중간고사 제출란에 업로드 해주세요.__\n",
    "\n",
    "총 100 pts(기본점수 10 pts)"
   ]
  },
  {
   "cell_type": "markdown",
   "metadata": {
    "colab_type": "text",
    "id": "JnvoWPc4YiCA"
   },
   "source": [
    " #### 1. (15 pts) 다음 각 문제에 알맞는 loss function과 output layer의 activation function의 종류를 쓰시오.\n",
    "\n",
    "(1) 0~9의 손글씨 사진을 입력하여 나타내는 숫자를 구분  \n",
    "(2) 쇼핑 후기 텍스트를 입력하여 상품에 대한 긍정/부정 반응을 판별  \n",
    "(3) Social media posting 텍스트를 입력하여 사용자의 나이를 추정   \n"
   ]
  },
  {
   "cell_type": "markdown",
   "metadata": {
    "colab_type": "text",
    "id": "FBLcI042YiCB"
   },
   "source": [
    "답안\n",
    "\n",
    "(1) loss func  : categorical_crossentropy(softmax crossentropy) ,   output layer's activation func  : softmax\n",
    "\n",
    "(2) loss func  : binary_crossentropy, output layer's activation func : sigmoid\n",
    "\n",
    "(3)loss func  : mse or mae,  output layer's activation func : linear\n"
   ]
  },
  {
   "cell_type": "markdown",
   "metadata": {
    "colab_type": "text",
    "id": "OOxJRhbCYiCF"
   },
   "source": [
    "#### 2. (15 pts) 32*32 픽셀의 _컬러_ 이미지를 CNN 모형에 입력하고자 한다. 즉, `(None, 32, 32, 3)`shape의 np array가 입력데이터이다. 이 입력데이터를 아래에 명시된 layer를 통과시켰을  때 출력되는 shape의 크기를 찾으시오.\n",
    "\n",
    "(1) Convolution: (3,3) filter 10개, stride=1, valid padding \n",
    "\n",
    "(2) Convolution: (4,4) filter 64개, stride=2, valid padding\n",
    "\n",
    "(3) Maxpooling: (2,2)  \n"
   ]
  },
  {
   "cell_type": "markdown",
   "metadata": {
    "colab_type": "text",
    "id": "IAVIJco1YiCF"
   },
   "source": [
    "답안 \n",
    "\n",
    "output shape : [None, 7,  7,  64]\n",
    "\n",
    "\n"
   ]
  },
  {
   "cell_type": "markdown",
   "metadata": {
    "colab_type": "text",
    "id": "fKGi9BR2YiCH"
   },
   "source": [
    "#### 3. Happy house \n",
    "다음 휴가를 위해 다섯 명의 친구들과 일주일을 보내기로 하고 좋은 숙소를 예약하였다. 가장 중요하게 생각하는 점은 이 숙소에서 지낼 때 모두가 행복해야 한다는 것이다. 그래서 숙소에 들어오는 사람들이 현재 행복한 지를 문에 설치된 카메라를 통해 판별하기로 했다. 행복 판별모형을 만들기 위해 카메라를 통해 찍힌 방문자의 사진을 64*64 픽셀로 저장하고 각 사진의 인물이 행복한지에 대한 label을 작성하였다.  아래의 사진들은 문에 설치된 카메라를 통해 보이는 사진과 결과물의 예시이다. \n",
    "\n",
    "모형 학습을 위한 train set은 600장을, 검증을 위한 test set은 150장을 수집하여 데이터를 구축하였다. \n",
    "<img src=\"figures/house-members.png\" style=\"width:550px;height:250px;\">\n"
   ]
  },
  {
   "cell_type": "markdown",
   "metadata": {
    "colab_type": "text",
    "id": "QVKBAQ3HYiCI"
   },
   "source": [
    "(1) (10 pts) 아래의 구조로 model을 만들고 model.summary를 프린트 하시오.\n",
    "\n",
    "- Conv2D: 32 filters, kernel (3,3), stride 1, padding is \"SAME\", ReLU activation\n",
    "- Max pooling: kernel (2,2), padding is \"SAME\"\n",
    "- Conv2D:  64 filters, kernel (3,3), stride 1, padding is \"SAME\", ReLU activation\n",
    "- Max pooling: kernel (2,2), padding is \"SAME\"\n",
    "- Fully connected layer with 32 nodes.\n",
    "- Fully connected layer as output \n",
    " "
   ]
  },
  {
   "cell_type": "code",
   "execution_count": 44,
   "metadata": {
    "colab": {
     "base_uri": "https://localhost:8080/",
     "height": 422
    },
    "colab_type": "code",
    "id": "3ppYpJFXea-o",
    "outputId": "d14ea3c9-7c95-461a-9383-c987da84337e"
   },
   "outputs": [
    {
     "name": "stdout",
     "output_type": "stream",
     "text": [
      "_________________________________________________________________\n",
      "Layer (type)                 Output Shape              Param #   \n",
      "=================================================================\n",
      "input_7 (InputLayer)         (None, 64, 64, 3)         0         \n",
      "_________________________________________________________________\n",
      "conv2d_25 (Conv2D)           (None, 64, 64, 32)        896       \n",
      "_________________________________________________________________\n",
      "max_pooling2d_12 (MaxPooling (None, 32, 32, 32)        0         \n",
      "_________________________________________________________________\n",
      "conv2d_26 (Conv2D)           (None, 32, 32, 64)        18496     \n",
      "_________________________________________________________________\n",
      "max_pooling2d_13 (MaxPooling (None, 16, 16, 64)        0         \n",
      "_________________________________________________________________\n",
      "dense_10 (Dense)             (None, 16, 16, 32)        2080      \n",
      "_________________________________________________________________\n",
      "global_max_pooling2d_4 (Glob (None, 32)                0         \n",
      "_________________________________________________________________\n",
      "dense_11 (Dense)             (None, 1)                 33        \n",
      "=================================================================\n",
      "Total params: 21,505\n",
      "Trainable params: 21,505\n",
      "Non-trainable params: 0\n",
      "_________________________________________________________________\n"
     ]
    }
   ],
   "source": [
    "from keras.layers import Dense, Conv2D, MaxPooling2D, GlobalMaxPool2D\n",
    "from keras.models import Model, Input\n",
    "conv = lambda filter : Conv2D(filters=filter, kernel_size=(3,3), strides=(1,1), padding='SAME', activation='relu')\n",
    "input_layer = Input(shape=[64,64,3])\n",
    "conv_layer1 = conv(32)(input_layer)\n",
    "max_pool_layer1 = MaxPooling2D(pool_size=(2,2), padding='SAME')(conv_layer1)\n",
    "conv_layer2 = conv(64)(max_pool_layer1)\n",
    "max_pool_layer2 = MaxPooling2D(pool_size=(2,2), padding='SAME')(conv_layer2)\n",
    "fc_layer = Dense(32, activation='relu')(max_pool_layer2)\n",
    "g_max_pool_layer = GlobalMaxPool2D()(fc_layer)\n",
    "output_layer = Dense(1, activation='sigmoid')(g_max_pool_layer)\n",
    "model = Model(input_layer, output_layer)\n",
    "model.summary()"
   ]
  },
  {
   "cell_type": "markdown",
   "metadata": {
    "colab_type": "text",
    "id": "UhofIOxlYiCL"
   },
   "source": [
    "(2) (10 pts)  위의 model.summary에서 보이는 첫 번째 layer의 parameter의 수가 어떻게 계산된 값인지 설명하시오. "
   ]
  },
  {
   "cell_type": "code",
   "execution_count": 56,
   "metadata": {
    "colab": {
     "base_uri": "https://localhost:8080/",
     "height": 34
    },
    "colab_type": "code",
    "id": "XaMpFjQGjU1n",
    "outputId": "7de4b816-e0b3-4e72-ec11-aaa61a26d278"
   },
   "outputs": [
    {
     "data": {
      "text/plain": [
       "896"
      ]
     },
     "execution_count": 56,
     "metadata": {
      "tags": []
     },
     "output_type": "execute_result"
    }
   ],
   "source": [
    "# 답안 \n",
    "3*3*3*32+32\n",
    "입력채널수 * 필터 폭 * 필터 높이 * 출력채널수 + 출력채널수"
   ]
  },
  {
   "cell_type": "markdown",
   "metadata": {
    "colab_type": "text",
    "id": "llL1m2UxYiCP"
   },
   "source": [
    "(3) (10 pts) 위의 모델을 compile하는 과정에서 필요한 코드를 작성하시오."
   ]
  },
  {
   "cell_type": "code",
   "execution_count": 0,
   "metadata": {
    "colab": {},
    "colab_type": "code",
    "id": "PGrhJJfRYiCP"
   },
   "outputs": [],
   "source": [
    "# 답안\n",
    "model.compile(optimizer='rmsprop', loss='binary_crossentropy', metrics=['acc'])\n",
    "\n",
    "\n"
   ]
  },
  {
   "cell_type": "markdown",
   "metadata": {
    "colab_type": "text",
    "id": "MZ3oLwP_YiCS"
   },
   "source": [
    "(4) (10 pts) 위의 모델을 fit 하는 과정에서 들어가야 하는 training set의 input과 output의 적절한 shape을 쓰시오. (입력되는 training example의 수는 `None`으로 표시)"
   ]
  },
  {
   "cell_type": "code",
   "execution_count": 0,
   "metadata": {
    "colab": {},
    "colab_type": "code",
    "id": "PSwBJ9NqYiCT"
   },
   "outputs": [],
   "source": [
    "# 답안\n",
    "Input Shape : [600, 64, 64, 3]\n",
    "Output Shape : [600,1]\n",
    "\n",
    "\n"
   ]
  },
  {
   "cell_type": "markdown",
   "metadata": {
    "colab_type": "text",
    "id": "bT1DVQvrYiCW"
   },
   "source": [
    "(5) (10 pts) 위의 모델을 fit하는 코드를 아래의 사항을 포함하여 작성하시오. (데이터를 제공하지 않았기 때문에 코드를 실행하면 에러가 발생하기 때문에 실행하지 마시오.)\n",
    "- 100번의 epoch, 128개의 batch size 사용\n",
    "- Training set의 30%를 validation set으로 사용하여 한 epoch가 끝날때마다 validation metrics를 프린트\n",
    "- Tensorboard로 `/logs/happyhouse/` 폴더에 monitoring을 위한 로그를 저장 \n",
    "- 진행과정 중 validation loss를 기준으로 가장 좋은 모델을 'happyhouse.h5'로 저장 "
   ]
  },
  {
   "cell_type": "code",
   "execution_count": 0,
   "metadata": {
    "colab": {},
    "colab_type": "code",
    "id": "hFM3_3RfYiCY"
   },
   "outputs": [],
   "source": [
    "# 답안\n",
    "from keras.callbacks from TensorBoard, ModelCheckpoint\n",
    "callbackList = [\n",
    "    TensorBoard(log_dir='/log/happyhouse', histogram_freq=1, embeddings_freq=1),\n",
    "    ModelCheckpoint(filepath='happyhouse.h5', monitor='val_loss', save_best_only=True)\n",
    "    \n",
    "]\n",
    "model.fit(X_train, y_train, batch_size = 128, epochs=100, validation_rate=0.3, callbacks=callbackList)\n"
   ]
  },
  {
   "cell_type": "markdown",
   "metadata": {
    "colab_type": "text",
    "id": "N1lPk2eFYiCa"
   },
   "source": [
    "(6) (10 pts) 위의 모형의 학습 결과 tensorboard를 통해 아래와 같은 패턴을 train loss(trn_loss)와 validation loss(val_loss)에서 관찰하였다. 이러한 패턴이 나타나는 이유가 무엇인가? 이를 해결하기 위한 방법을 두 가지 이상 제시하시오.\n",
    "\n",
    "![](https://forums.fast.ai/uploads/default/original/2X/5/5040a66e70fdc509e6b13a50ba78533009079c5a.png)"
   ]
  },
  {
   "cell_type": "code",
   "execution_count": 0,
   "metadata": {
    "colab": {},
    "colab_type": "code",
    "id": "m12nzpJUYiCb"
   },
   "outputs": [],
   "source": [
    "# 답안 \n",
    "이유 : 과대적합이 발생했다.\n",
    "해결방법1 : 우선 현 상황에서 epochs수를 10이하로 설정한다.\n",
    "해결방법2 : 컨볼루션층 또는 FC층에 Dropout 층을 0.5 정도 설정한다.\n",
    "해결방법3 : Gradient 소실 또는 폭발 문제가 발생했을 수 있다. 컨볼루션층이 너무 깊지 않은지 확인하기 위해 Conv2D + 풀링층을 한번만 사용해본다\n",
    "해결방법4 : l1 또는 l2 규제를 주어 가중치가 너무 커지지 않게 한다.\n",
    "해결방법5 : 데이터가 부족할 수 있다. 데이터 증식을 하여 데이터량을 추가 확보한다."
   ]
  }
 ],
 "metadata": {
  "accelerator": "GPU",
  "colab": {
   "name": "Midterm_Exam.ipynb",
   "provenance": [],
   "version": "0.3.2"
  },
  "kernelspec": {
   "display_name": "Python 3",
   "language": "python",
   "name": "python3"
  },
  "language_info": {
   "codemirror_mode": {
    "name": "ipython",
    "version": 3
   },
   "file_extension": ".py",
   "mimetype": "text/x-python",
   "name": "python",
   "nbconvert_exporter": "python",
   "pygments_lexer": "ipython3",
   "version": "3.6.7"
  }
 },
 "nbformat": 4,
 "nbformat_minor": 1
}
